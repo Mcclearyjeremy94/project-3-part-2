{
 "cells": [
  {
   "cell_type": "code",
   "execution_count": 22,
   "id": "e8c5295b",
   "metadata": {},
   "outputs": [
    {
     "data": {
      "text/plain": [
       "[]"
      ]
     },
     "execution_count": 22,
     "metadata": {},
     "output_type": "execute_result"
    }
   ],
   "source": [
    "import os, time,json\n",
    "import tmdbsimple as tmdb \n",
    "import pandas as pd\n",
    "FOLDER = \"Data/\"\n",
    "os.makedirs(FOLDER, exist_ok=True)\n",
    "os.listdir(FOLDER)"
   ]
  },
  {
   "cell_type": "code",
   "execution_count": 23,
   "id": "548e1f9d",
   "metadata": {},
   "outputs": [],
   "source": [
    "def write_json(new_data, filename):\n",
    "    \"\"\"Appends a list of records (new_data) to a json file(filename),\n",
    "    Adapted from://www.geeksforgeeks.org/append-to-json-file-using-python/\"\"\"\n",
    "    with open(filename,'r+') as file:\n",
    "        #first we load existing file into a dict\n",
    "        file_data = json.load(file)\n",
    "        ##choose extend or append\n",
    "        if (type(new_data) == list & type(file_data) == list):\n",
    "            file_data.extend(new_data)\n",
    "        else:\n",
    "            file_data.append(new_data)\n",
    "        # sets files current position at offset.\n",
    "        file.seek(0)\n",
    "        #convert back to json\n",
    "        json.dump(file_data, file)"
   ]
  },
  {
   "cell_type": "code",
   "execution_count": 24,
   "id": "dc7aae15",
   "metadata": {},
   "outputs": [],
   "source": [
    "basics_url='https://datasets.imdbws.com/title.basics.tsv.gz'"
   ]
  },
  {
   "cell_type": "code",
   "execution_count": 25,
   "id": "e9a9ef6e",
   "metadata": {},
   "outputs": [],
   "source": [
    "basics= pd.read_csv(basics_url, sep='\\t', low_memory=False)"
   ]
  },
  {
   "cell_type": "code",
   "execution_count": 26,
   "id": "bbf77762",
   "metadata": {},
   "outputs": [],
   "source": [
    "YEARS_TO_GET = [2000,2001]\n"
   ]
  },
  {
   "cell_type": "code",
   "execution_count": 29,
   "id": "97626264",
   "metadata": {},
   "outputs": [],
   "source": [
    "errors = [ ]\n"
   ]
  },
  {
   "cell_type": "code",
   "execution_count": 32,
   "id": "9cf76f20",
   "metadata": {},
   "outputs": [
    {
     "ename": "IndentationError",
     "evalue": "expected an indented block (1873617865.py, line 3)",
     "output_type": "error",
     "traceback": [
      "\u001b[0;36m  Cell \u001b[0;32mIn [32], line 3\u001b[0;36m\u001b[0m\n\u001b[0;31m    \u001b[0m\n\u001b[0m    ^\u001b[0m\n\u001b[0;31mIndentationError\u001b[0m\u001b[0;31m:\u001b[0m expected an indented block\n"
     ]
    }
   ],
   "source": [
    "# Start of OUTER loop\n",
    "for YEAR in tqdm_notebook(YEARS_TO_GET, desc='YEARS', position=0):\n",
    "    "
   ]
  },
  {
   "cell_type": "code",
   "execution_count": null,
   "id": "ddbb01b2",
   "metadata": {},
   "outputs": [],
   "source": []
  }
 ],
 "metadata": {
  "kernelspec": {
   "display_name": "Python (dojo-env)",
   "language": "python",
   "name": "dojo-env"
  },
  "language_info": {
   "codemirror_mode": {
    "name": "ipython",
    "version": 3
   },
   "file_extension": ".py",
   "mimetype": "text/x-python",
   "name": "python",
   "nbconvert_exporter": "python",
   "pygments_lexer": "ipython3",
   "version": "3.9.15"
  },
  "toc": {
   "base_numbering": 1,
   "nav_menu": {},
   "number_sections": true,
   "sideBar": true,
   "skip_h1_title": false,
   "title_cell": "Table of Contents",
   "title_sidebar": "Contents",
   "toc_cell": false,
   "toc_position": {},
   "toc_section_display": true,
   "toc_window_display": false
  }
 },
 "nbformat": 4,
 "nbformat_minor": 5
}
