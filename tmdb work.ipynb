{
 "cells": [
  {
   "cell_type": "code",
   "execution_count": 1,
   "id": "f74c9d0a",
   "metadata": {},
   "outputs": [
    {
     "name": "stdout",
     "output_type": "stream",
     "text": [
      "Requirement already satisfied: tmdbsimple in /opt/homebrew/Caskroom/miniforge/base/envs/dojo-env/lib/python3.9/site-packages (2.9.1)\r\n",
      "Requirement already satisfied: requests in /opt/homebrew/Caskroom/miniforge/base/envs/dojo-env/lib/python3.9/site-packages (from tmdbsimple) (2.28.1)\r\n",
      "Requirement already satisfied: charset-normalizer<3,>=2 in /opt/homebrew/Caskroom/miniforge/base/envs/dojo-env/lib/python3.9/site-packages (from requests->tmdbsimple) (2.0.4)\r\n",
      "Requirement already satisfied: idna<4,>=2.5 in /opt/homebrew/Caskroom/miniforge/base/envs/dojo-env/lib/python3.9/site-packages (from requests->tmdbsimple) (3.4)\r\n",
      "Requirement already satisfied: certifi>=2017.4.17 in /opt/homebrew/Caskroom/miniforge/base/envs/dojo-env/lib/python3.9/site-packages (from requests->tmdbsimple) (2022.9.24)\r\n",
      "Requirement already satisfied: urllib3<1.27,>=1.21.1 in /opt/homebrew/Caskroom/miniforge/base/envs/dojo-env/lib/python3.9/site-packages (from requests->tmdbsimple) (1.26.13)\r\n"
     ]
    }
   ],
   "source": [
    "# Install tmdbsimple (only need to run once)\n",
    "!pip install tmdbsimple\n"
   ]
  },
  {
   "cell_type": "code",
   "execution_count": 2,
   "id": "40444bbd",
   "metadata": {},
   "outputs": [
    {
     "data": {
      "text/plain": [
       "dict_keys(['api-key'])"
      ]
     },
     "execution_count": 2,
     "metadata": {},
     "output_type": "execute_result"
    }
   ],
   "source": [
    "import json\n",
    "with open('/Users/alisonwilliams/.secret/tmdb_api.json', 'r') as f:\n",
    "    login = json.load(f)\n",
    "## Display the keys of the loaded dict\n",
    "login.keys()"
   ]
  },
  {
   "cell_type": "code",
   "execution_count": 3,
   "id": "42308e1d",
   "metadata": {},
   "outputs": [],
   "source": [
    "import tmdbsimple as tmdb\n",
    "tmdb.API_KEY =  login['api-key']"
   ]
  },
  {
   "cell_type": "code",
   "execution_count": 4,
   "id": "50542786",
   "metadata": {},
   "outputs": [],
   "source": [
    "## make a movie object using the .Movies function from tmdb\n",
    "movie = tmdb.Movies(603)\n"
   ]
  },
  {
   "cell_type": "code",
   "execution_count": 5,
   "id": "7ebb1d2b",
   "metadata": {},
   "outputs": [
    {
     "data": {
      "text/plain": [
       "{'adult': False,\n",
       " 'backdrop_path': '/l4QHerTSbMI7qgvasqxP36pqjN6.jpg',\n",
       " 'belongs_to_collection': {'id': 2344,\n",
       "  'name': 'The Matrix Collection',\n",
       "  'poster_path': '/bV9qTVHTVf0gkW0j7p7M0ILD4pG.jpg',\n",
       "  'backdrop_path': '/bRm2DEgUiYciDw3myHuYFInD7la.jpg'},\n",
       " 'budget': 63000000,\n",
       " 'genres': [{'id': 28, 'name': 'Action'},\n",
       "  {'id': 878, 'name': 'Science Fiction'}],\n",
       " 'homepage': 'http://www.warnerbros.com/matrix',\n",
       " 'id': 603,\n",
       " 'imdb_id': 'tt0133093',\n",
       " 'original_language': 'en',\n",
       " 'original_title': 'The Matrix',\n",
       " 'overview': 'Set in the 22nd century, The Matrix tells the story of a computer hacker who joins a group of underground insurgents fighting the vast and powerful computers who now rule the earth.',\n",
       " 'popularity': 64.414,\n",
       " 'poster_path': '/f89U3ADr1oiB1s9GkdPOEpXUk5H.jpg',\n",
       " 'production_companies': [{'id': 79,\n",
       "   'logo_path': '/tpFpsqbleCzEE2p5EgvUq6ozfCA.png',\n",
       "   'name': 'Village Roadshow Pictures',\n",
       "   'origin_country': 'US'},\n",
       "  {'id': 174,\n",
       "   'logo_path': '/IuAlhI9eVC9Z8UQWOIDdWRKSEJ.png',\n",
       "   'name': 'Warner Bros. Pictures',\n",
       "   'origin_country': 'US'},\n",
       "  {'id': 372,\n",
       "   'logo_path': None,\n",
       "   'name': 'Groucho II Film Partnership',\n",
       "   'origin_country': ''},\n",
       "  {'id': 1885,\n",
       "   'logo_path': '/tXMFoE8AtNdnFzWOW0aCLwl7xxS.png',\n",
       "   'name': 'Silver Pictures',\n",
       "   'origin_country': 'US'}],\n",
       " 'production_countries': [{'iso_3166_1': 'US',\n",
       "   'name': 'United States of America'}],\n",
       " 'release_date': '1999-03-30',\n",
       " 'revenue': 463517383,\n",
       " 'runtime': 136,\n",
       " 'spoken_languages': [{'english_name': 'English',\n",
       "   'iso_639_1': 'en',\n",
       "   'name': 'English'}],\n",
       " 'status': 'Released',\n",
       " 'tagline': 'Welcome to the Real World.',\n",
       " 'title': 'The Matrix',\n",
       " 'video': False,\n",
       " 'vote_average': 8.195,\n",
       " 'vote_count': 22632}"
      ]
     },
     "execution_count": 5,
     "metadata": {},
     "output_type": "execute_result"
    }
   ],
   "source": [
    "## movie objects have a .info dictionary \n",
    "info = movie.info()\n",
    "info"
   ]
  },
  {
   "cell_type": "code",
   "execution_count": 6,
   "id": "566c56bd",
   "metadata": {},
   "outputs": [
    {
     "data": {
      "text/plain": [
       "63000000"
      ]
     },
     "execution_count": 6,
     "metadata": {},
     "output_type": "execute_result"
    }
   ],
   "source": [
    "info['budget']"
   ]
  },
  {
   "cell_type": "code",
   "execution_count": 7,
   "id": "f1694fe9",
   "metadata": {},
   "outputs": [
    {
     "data": {
      "text/plain": [
       "463517383"
      ]
     },
     "execution_count": 7,
     "metadata": {},
     "output_type": "execute_result"
    }
   ],
   "source": [
    "info['revenue']"
   ]
  },
  {
   "cell_type": "code",
   "execution_count": 8,
   "id": "ffb7eafc",
   "metadata": {},
   "outputs": [
    {
     "data": {
      "text/plain": [
       "'tt0133093'"
      ]
     },
     "execution_count": 8,
     "metadata": {},
     "output_type": "execute_result"
    }
   ],
   "source": [
    "info['imdb_id']"
   ]
  },
  {
   "cell_type": "code",
   "execution_count": 9,
   "id": "467a4bdf",
   "metadata": {},
   "outputs": [
    {
     "data": {
      "text/plain": [
       "50000000"
      ]
     },
     "execution_count": 9,
     "metadata": {},
     "output_type": "execute_result"
    }
   ],
   "source": [
    "movie = tmdb.Movies('tt1361336')\n",
    "info = movie.info()\n",
    "info['budget']"
   ]
  },
  {
   "cell_type": "code",
   "execution_count": 10,
   "id": "2bc94afe",
   "metadata": {},
   "outputs": [
    {
     "name": "stdout",
     "output_type": "stream",
     "text": [
      "PG\n",
      "PG\n",
      "PG\n"
     ]
    }
   ],
   "source": [
    "# example from package README\n",
    "# source = https://github.com/celiao/tmdbsimple\n",
    "releases = movie.releases()\n",
    "for c in releases['countries']:\n",
    "    if c['iso_3166_1'] == 'US':\n",
    "        print(c['certification'])"
   ]
  },
  {
   "cell_type": "code",
   "execution_count": 11,
   "id": "57928e68",
   "metadata": {},
   "outputs": [],
   "source": [
    "# Get the movie object for the current id\n",
    "movie = tmdb.Movies('tt1361336')\n",
    "# save the .info .releases dictionaries\n",
    "info = movie.info()\n",
    "releases = movie.releases()\n",
    "# Loop through countries in releases\n",
    "for c in releases['countries']:\n",
    "    # if the country abbreviation==US\n",
    "    if c['iso_3166_1' ] =='US':\n",
    "        ## save a \"certification\" key in the info dict with the certification\n",
    "       info['certification'] = c['certification']"
   ]
  },
  {
   "cell_type": "code",
   "execution_count": 14,
   "id": "41ee9da7",
   "metadata": {},
   "outputs": [
    {
     "ename": "IndentationError",
     "evalue": "unindent does not match any outer indentation level (<tokenize>, line 4)",
     "output_type": "error",
     "traceback": [
      "\u001b[0;36m  File \u001b[0;32m<tokenize>:4\u001b[0;36m\u001b[0m\n\u001b[0;31m    movie = tmdb.Movies(movie_id)\u001b[0m\n\u001b[0m    ^\u001b[0m\n\u001b[0;31mIndentationError\u001b[0m\u001b[0;31m:\u001b[0m unindent does not match any outer indentation level\n"
     ]
    }
   ],
   "source": [
    "def get_movie_with_rating(movie_id):\n",
    "     \"\"\"Adapted from source = https://github.com/celiao/tmdbsimple\"\"\"\n",
    "    #Get the movie object for the current id\n",
    "    movie = tmdb.Movies(movie_id)\n",
    "    #save the info releases dictionaries\n",
    "    info = movie.info()\n",
    "    releases = movie.releases ()\n",
    "    #Loop through countries in releases\n",
    "    for c in releases ['countries']:\n",
    "        #if the country abbreviation==Us\n",
    "        if c['iso 3166 1'] =='US':\n",
    "##save a \"certification\" key in info with the certification\n",
    "            info ['certification'] = c['certification']\n",
    "return info"
   ]
  },
  {
   "cell_type": "code",
   "execution_count": null,
   "id": "5bf315ca",
   "metadata": {},
   "outputs": [],
   "source": []
  }
 ],
 "metadata": {
  "kernelspec": {
   "display_name": "Python (dojo-env)",
   "language": "python",
   "name": "dojo-env"
  },
  "language_info": {
   "codemirror_mode": {
    "name": "ipython",
    "version": 3
   },
   "file_extension": ".py",
   "mimetype": "text/x-python",
   "name": "python",
   "nbconvert_exporter": "python",
   "pygments_lexer": "ipython3",
   "version": "3.9.15"
  },
  "toc": {
   "base_numbering": 1,
   "nav_menu": {},
   "number_sections": true,
   "sideBar": true,
   "skip_h1_title": false,
   "title_cell": "Table of Contents",
   "title_sidebar": "Contents",
   "toc_cell": false,
   "toc_position": {},
   "toc_section_display": true,
   "toc_window_display": false
  }
 },
 "nbformat": 4,
 "nbformat_minor": 5
}
